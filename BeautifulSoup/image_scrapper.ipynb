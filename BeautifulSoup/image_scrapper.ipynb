{
 "cells": [
  {
   "cell_type": "code",
   "execution_count": 12,
   "metadata": {},
   "outputs": [],
   "source": [
    "from bs4 import BeautifulSoup\n",
    "import requests\n",
    "from urllib.request import urlopen"
   ]
  },
  {
   "cell_type": "code",
   "execution_count": 13,
   "metadata": {},
   "outputs": [],
   "source": [
    "if __name__ == \"__main__\":\n",
    "    # user agent : Add your user agent\n",
    "    HEADERS = ({\"User-Agent\": \"Mozilla/5.0 (Windows NT 10.0; Win64; x64) AppleWebKit/537.36 (KHTML, like Gecko) Chrome/118.0.0.0 Safari/537.36\",\n",
    "                \"Accept-Languages\": \"en-US, en;q = 0.5\"})\n",
    "\n",
    "    # webpage url : amazon url\n",
    "    URL = \"https://www.amazon.in/s?k=puma+sneakers&ref=nb_sb_noss\"\n",
    "\n",
    "    # http request\n",
    "    webpage = requests.get(URL, headers=HEADERS)\n",
    "\n",
    "    # soup object contains all data\n",
    "    soup = BeautifulSoup(webpage.content, \"html.parser\")\n",
    "\n",
    "    img_items = soup.find(\n",
    "        \"span\", attrs={\"class\": \"rush-component s-latency-cf-section\"})\n",
    "\n",
    "    img_div = img_items.find_all(\n",
    "        \"div\", attrs={\"class\": \"a-section aok-relative s-image-tall-aspect\"})\n",
    "\n",
    "    \n",
    "    img_count = 1\n",
    "\n",
    "    # getting images\n",
    "    for img in img_div:\n",
    "        img_tag = img.find(\"img\", attrs={\"class\": \"s-image\"})\n",
    "        img_src = img_tag.get(\"src\")\n",
    "\n",
    "        file_name = str(img_count)\n",
    "        img_count += 1\n",
    "\n",
    "        # saving images\n",
    "        img_file = open(str(file_name) + \".jpeg\", \"wb\")\n",
    "        img_file.write(urlopen(img_src).read())\n",
    "        img_file.close()"
   ]
  }
 ],
 "metadata": {
  "kernelspec": {
   "display_name": "venv",
   "language": "python",
   "name": "python3"
  },
  "language_info": {
   "codemirror_mode": {
    "name": "ipython",
    "version": 3
   },
   "file_extension": ".py",
   "mimetype": "text/x-python",
   "name": "python",
   "nbconvert_exporter": "python",
   "pygments_lexer": "ipython3",
   "version": "3.11.6"
  }
 },
 "nbformat": 4,
 "nbformat_minor": 2
}

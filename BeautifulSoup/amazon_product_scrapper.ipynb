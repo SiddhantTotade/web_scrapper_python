{
 "cells": [
  {
   "cell_type": "code",
   "execution_count": 47,
   "metadata": {},
   "outputs": [],
   "source": [
    "from bs4 import BeautifulSoup\n",
    "import requests\n",
    "import pandas as pd\n",
    "import numpy as np"
   ]
  },
  {
   "cell_type": "code",
   "execution_count": 50,
   "metadata": {},
   "outputs": [],
   "source": [
    "# extract product title\n",
    "def get_title(soup):\n",
    "    try:\n",
    "        title = soup.find(\"span\", attrs={\"id\": \"productTitle\"}).text.strip()\n",
    "\n",
    "    except AttributeError:\n",
    "        title = \"\"\n",
    "\n",
    "    return title\n",
    "\n",
    "\n",
    "# extract product price\n",
    "def get_price(soup):\n",
    "    try:\n",
    "        price = soup.find(\"span\", attrs={\n",
    "                          \"class\": \"a-price aok-align-center reinventPricePriceToPayMargin priceToPay\"}).find(\"span\", attrs={\"class\": \"a-offscreen\"}).text.strip()\n",
    "    except AttributeError:\n",
    "        price = \"\"\n",
    "\n",
    "    return price\n",
    "\n",
    "\n",
    "# extract product rating\n",
    "def get_rating(soup):\n",
    "    try:\n",
    "        rating = soup.find(\"div\", attrs={\"id\": \"averageCustomerReviews\"}).find(\n",
    "            \"span\", attrs={\"class\": \"a-icon-alt\"}).text.strip()\n",
    "    except AttributeError:\n",
    "        rating = \"\"\n",
    "\n",
    "    return rating\n",
    "\n",
    "\n",
    "# extract product review count\n",
    "def get_review_count(soup):\n",
    "    try:\n",
    "        review = soup.find(\"span\", attrs={\"id\": \"acrCustomerReviewText\"}).text\n",
    "    except:\n",
    "        review = \"\"\n",
    "\n",
    "    return review\n",
    "\n",
    "\n",
    "# extract product availablity\n",
    "def get_availablity(soup):\n",
    "    try:\n",
    "        availablity = soup.find(\n",
    "            \"div\", attrs={\"id\": \"availability\"}).find(\"span\", attrs={\"class\": \"a-size-medium a-color-success\"}).text\n",
    "    except AttributeError:\n",
    "        availablity = \"\"\n",
    "\n",
    "    return availablity"
   ]
  },
  {
   "cell_type": "code",
   "execution_count": 49,
   "metadata": {},
   "outputs": [
    {
     "name": "stdout",
     "output_type": "stream",
     "text": [
      "{'title': ['Sony PS5® Console – Cricket 24 Bundle', 'PS5® Console – EA SPORTS FC™ 24 Bundle', 'Sony PS5 Digital Standalone', 'Big Ant Studios Cricket 24, Standard Edition, Playstation 5', 'Sony Horizon Forbidden West | Standard Edition | PS5 Game (PlayStation 5)', \"SONY PS5 GHOST OF TSUSHIMA DIRECTOR'S CUT- PS5, Black, 10GHOCU2\", \"Assassin's Creed Mirage | Standard Edition | PlayStation 5\", 'Sony God Of War Ragnarok | Standard Edition | PS5 Game (PlayStation 5)', 'PS5 Spiderman 2 Standard Edn.', 'PlayStation 5 DualSense Wireless Controller', 'Dorca® Dust Cover for Sony Playstation 5 Cover Disc & Digital Edition', 'OIVO INDIA Hard Shell Dust Proof Cover Protective Case Anti Scratch Water-Resistant Carry-Bag for Playstation 5 Disc/Digital Version PS5 Bag (Grey)', 'Mortal Kombat 1 | Standard Edition | PlayStation 5', 'F1 23 | Standard Edition | PlayStation 5', 'New World Special Edition Charger for PS5 DualSense Controller Wireless Controller Charging Station for PS5 Controller with Dual USB C Ports, Fast Charging Dock for Sony Playstation 5 Controller-White', \"Assassin's Creed Mirage | Deluxe Edition | PlayStation 5\", 'NBA 2K24 | Kobe Bryant Edition | PlayStation 5', 'EA Sports FC 24 | Standard Edition | PlayStation 5', 'Rockstar Games PS5 Grand Theft Auto V', 'OIVO INDIA Stylish Nylon Grey Hard Carrying Storage Case for Playstation 5 with Black Controller Case (PS5 Bag, Combo) [Video Game]', 'OIVO INDIA Stylish Nylon Grey Hard Carrying Storage Case for Playstation 5 with Red Controller Cases (PS5 Bag, Red Combo) [Video Game]', 'TMG®PS5 Storage Case Bag, Waterproof Shockproof Travel Bag Compatible with Playstation 5,Hard Shell Carrying Case for PS5'], 'price': ['₹47,990', '₹48,189', '₹44,989', '₹4,294', '₹2,399', '₹2,790', '₹3,990', '₹3,299', '₹4,999', '₹6,490', '₹244', '₹2,659', '₹3,899', '₹3,471', '₹1,999', '₹4,499', '₹4,979', '₹4,793', '₹1,749', '₹3,199', '₹3,199', '₹2,999'], 'rating': ['4.5 out of 5 stars', '4.5 out of 5 stars', '4.7 out of 5 stars', '4.0 out of 5 stars', '4.6 out of 5 stars', '4.8 out of 5 stars', '5.0 out of 5 stars', '4.7 out of 5 stars', '', '4.6 out of 5 stars', '4.4 out of 5 stars', '', '5.0 out of 5 stars', '4.7 out of 5 stars', '5.0 out of 5 stars', '', '', '4.4 out of 5 stars', '4.4 out of 5 stars', '', '', ''], 'reviews': ['1,177 ratings', '1,177 ratings', '392 ratings', '1 rating', '356 ratings', '630 ratings', '1 rating', '3,340 ratings', '', '41,158 ratings', '679 ratings', '', '3 ratings', '11 ratings', '2 ratings', '', '', '9 ratings', '437 ratings', '', '', ''], 'availablity': [' In stock ', ' In stock ', ' In stock ', ' In stock ', ' In stock ', '', '', ' In stock ', ' This item will be released on October 20, 2023. ', ' In stock ', ' In stock ', ' In stock ', ' In stock ', '', '', ' In stock ', ' In stock ', ' In stock ', '', ' In stock ', ' In stock ', ' In stock ']}\n"
     ]
    }
   ],
   "source": [
    "if __name__ == \"__main__\":\n",
    "\n",
    "    # user agent : Add your user agent\n",
    "    HEADERS = ({\"User-Agent\": \"Mozilla/5.0 (Windows NT 10.0; Win64; x64) AppleWebKit/537.36 (KHTML, like Gecko) Chrome/118.0.0.0 Safari/537.36\",\n",
    "                \"Accept-Languages\": \"en-US, en;q = 0.5\"})\n",
    "\n",
    "    # webpage url : amazon url\n",
    "    URL = \"https://www.amazon.in/s?k=playstation+5&ref=nb_sb_ss_ts-doa-p_1_3\"\n",
    "\n",
    "    # http request\n",
    "    webpage = requests.get(URL, headers=HEADERS)\n",
    "\n",
    "    # soup object contains all data\n",
    "    soup = BeautifulSoup(webpage.content, \"html.parser\")\n",
    "\n",
    "    # fectching links as a list of tag objects\n",
    "    links = soup.find_all(\"a\", attrs={\n",
    "        \"class\": \"a-link-normal s-underline-text s-underline-link-text s-link-style a-text-normal\"})\n",
    "\n",
    "    # storing the links\n",
    "    links_list = []\n",
    "\n",
    "    # extracting the links from links_list\n",
    "    for link in links:\n",
    "        links_list.append(link.get(\"href\"))\n",
    "\n",
    "    data_dict = {\"title\": [], \"price\": [],\n",
    "                 \"rating\": [], \"reviews\": [], \"availablity\": []}\n",
    "\n",
    "    for link in links_list:\n",
    "        new_webpage = requests.get(\"https://amazon.in\" + link, headers=HEADERS)\n",
    "\n",
    "        new_soup = BeautifulSoup(new_webpage.content, \"html.parser\")\n",
    "\n",
    "        # call and get all the necessary product data\n",
    "        data_dict[\"title\"].append(get_title(new_soup))\n",
    "        data_dict[\"price\"].append(get_price(new_soup))\n",
    "        data_dict[\"rating\"].append(get_rating(new_soup))\n",
    "        data_dict[\"reviews\"].append(get_review_count(new_soup))\n",
    "        data_dict[\"availablity\"].append(get_availablity(new_soup))\n",
    "\n",
    "    amazon_df = pd.DataFrame.from_dict(data_dict)\n",
    "    amazon_df['title'].replace(\"\", np.nan, inplace=True)\n",
    "    amazon_df = amazon_df.dropna(subset=['title'])\n",
    "    amazon_df.to_csv(\"amazon_product_data.csv\", header=True, index=False)\n"
   ]
  }
 ],
 "metadata": {
  "kernelspec": {
   "display_name": "venv",
   "language": "python",
   "name": "python3"
  },
  "language_info": {
   "codemirror_mode": {
    "name": "ipython",
    "version": 3
   },
   "file_extension": ".py",
   "mimetype": "text/x-python",
   "name": "python",
   "nbconvert_exporter": "python",
   "pygments_lexer": "ipython3",
   "version": "3.11.6"
  }
 },
 "nbformat": 4,
 "nbformat_minor": 2
}
